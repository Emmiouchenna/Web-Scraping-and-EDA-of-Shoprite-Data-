{
 "cells": [
  {
   "cell_type": "markdown",
   "id": "56c08f63",
   "metadata": {},
   "source": [
    "## Exploratory Data Analysis of Shoprite Data"
   ]
  },
  {
   "cell_type": "code",
   "execution_count": 1,
   "id": "5f623acb",
   "metadata": {},
   "outputs": [],
   "source": [
    "import numpy as np  # mathematical functions\n",
    "import pandas as pd  # data analysis\n",
    "import matplotlib as plt  # data visualization\n",
    "\n",
    "%matplotlib inline"
   ]
  },
  {
   "cell_type": "markdown",
   "id": "40eda40e",
   "metadata": {},
   "source": [
    "## Load our Data"
   ]
  },
  {
   "cell_type": "code",
   "execution_count": 3,
   "id": "9323c6ae",
   "metadata": {},
   "outputs": [
    {
     "data": {
      "text/html": [
       "<div>\n",
       "<style scoped>\n",
       "    .dataframe tbody tr th:only-of-type {\n",
       "        vertical-align: middle;\n",
       "    }\n",
       "\n",
       "    .dataframe tbody tr th {\n",
       "        vertical-align: top;\n",
       "    }\n",
       "\n",
       "    .dataframe thead th {\n",
       "        text-align: right;\n",
       "    }\n",
       "</style>\n",
       "<table border=\"1\" class=\"dataframe\">\n",
       "  <thead>\n",
       "    <tr style=\"text-align: right;\">\n",
       "      <th></th>\n",
       "      <th>Unnamed: 0</th>\n",
       "      <th>names</th>\n",
       "      <th>prices</th>\n",
       "      <th>sku</th>\n",
       "      <th>categories</th>\n",
       "      <th>tag</th>\n",
       "    </tr>\n",
       "  </thead>\n",
       "  <tbody>\n",
       "    <tr>\n",
       "      <th>0</th>\n",
       "      <td>0</td>\n",
       "      <td>Chewy Caramel Alpenliebe 6.5G</td>\n",
       "      <td>₦34.99</td>\n",
       "      <td>Candy Milk Chewy Caramel Alpenliebe 6.5G</td>\n",
       "      <td>Category: Confectionery and Snacks</td>\n",
       "      <td>Tag: Candy</td>\n",
       "    </tr>\n",
       "    <tr>\n",
       "      <th>1</th>\n",
       "      <td>1</td>\n",
       "      <td>Milk Chewy Caramel Alpenliebe 6.5G</td>\n",
       "      <td>₦34.99</td>\n",
       "      <td>Milk Chewy Caramel Alpenliebe 6.5G</td>\n",
       "      <td>Category: Candy &amp; bubble Gum</td>\n",
       "      <td>Tag: Alpenliebe</td>\n",
       "    </tr>\n",
       "    <tr>\n",
       "      <th>2</th>\n",
       "      <td>2</td>\n",
       "      <td>Seasoning Powder Jollof Maggi 8G</td>\n",
       "      <td>₦52.99</td>\n",
       "      <td>Seasoning Powder Jollof Maggi 8G</td>\n",
       "      <td>Category: Condiments, Oils &amp; Spices</td>\n",
       "      <td>Tag: Seasoning</td>\n",
       "    </tr>\n",
       "    <tr>\n",
       "      <th>3</th>\n",
       "      <td>3</td>\n",
       "      <td>Seasoning Powder Chicken Maggi 10G</td>\n",
       "      <td>₦52.99</td>\n",
       "      <td>Seasoning Powder Chicken Maggi 10G</td>\n",
       "      <td>Category: Condiments, Oils &amp; Spices</td>\n",
       "      <td>Tag: Seasoning</td>\n",
       "    </tr>\n",
       "    <tr>\n",
       "      <th>4</th>\n",
       "      <td>4</td>\n",
       "      <td>Chocolate Slab Milk Dune 5G</td>\n",
       "      <td>₦54.99</td>\n",
       "      <td>Chocolate Slab Milk Dune 5G</td>\n",
       "      <td>Category: Chocolate</td>\n",
       "      <td>Tag: Chocolate</td>\n",
       "    </tr>\n",
       "  </tbody>\n",
       "</table>\n",
       "</div>"
      ],
      "text/plain": [
       "   Unnamed: 0                               names  prices  \\\n",
       "0           0      Chewy Caramel Alpenliebe 6.5G   ₦34.99   \n",
       "1           1  Milk Chewy Caramel Alpenliebe 6.5G  ₦34.99   \n",
       "2           2    Seasoning Powder Jollof Maggi 8G  ₦52.99   \n",
       "3           3  Seasoning Powder Chicken Maggi 10G  ₦52.99   \n",
       "4           4         Chocolate Slab Milk Dune 5G  ₦54.99   \n",
       "\n",
       "                                         sku  \\\n",
       "0  Candy Milk Chewy Caramel Alpenliebe 6.5G    \n",
       "1         Milk Chewy Caramel Alpenliebe 6.5G   \n",
       "2           Seasoning Powder Jollof Maggi 8G   \n",
       "3         Seasoning Powder Chicken Maggi 10G   \n",
       "4                Chocolate Slab Milk Dune 5G   \n",
       "\n",
       "                            categories              tag  \n",
       "0   Category: Confectionery and Snacks       Tag: Candy  \n",
       "1         Category: Candy & bubble Gum  Tag: Alpenliebe  \n",
       "2  Category: Condiments, Oils & Spices   Tag: Seasoning  \n",
       "3  Category: Condiments, Oils & Spices   Tag: Seasoning  \n",
       "4                  Category: Chocolate   Tag: Chocolate  "
      ]
     },
     "execution_count": 3,
     "metadata": {},
     "output_type": "execute_result"
    }
   ],
   "source": [
    "df = pd.read_csv('shop_rite_messy_data.csv')\n",
    "df.head()"
   ]
  },
  {
   "cell_type": "markdown",
   "id": "911db3e8",
   "metadata": {},
   "source": [
    "## understand the Data"
   ]
  },
  {
   "cell_type": "code",
   "execution_count": 6,
   "id": "89413e3a",
   "metadata": {},
   "outputs": [],
   "source": [
    "# drop the unnamed : o column\n",
    "df.drop(columns ='Unnamed: 0',inplace = True)"
   ]
  },
  {
   "cell_type": "code",
   "execution_count": 7,
   "id": "339fe5a4",
   "metadata": {},
   "outputs": [
    {
     "data": {
      "text/plain": [
       "Index(['names', 'prices', 'sku', 'categories', 'tag'], dtype='object')"
      ]
     },
     "execution_count": 7,
     "metadata": {},
     "output_type": "execute_result"
    }
   ],
   "source": [
    "#after dropping the columns\n",
    "df.columns"
   ]
  },
  {
   "cell_type": "code",
   "execution_count": null,
   "id": "4398f330",
   "metadata": {},
   "outputs": [],
   "source": []
  },
  {
   "cell_type": "code",
   "execution_count": 9,
   "id": "8c28e990",
   "metadata": {
    "scrolled": true
   },
   "outputs": [
    {
     "name": "stdout",
     "output_type": "stream",
     "text": [
      "<class 'pandas.core.frame.DataFrame'>\n",
      "RangeIndex: 100 entries, 0 to 99\n",
      "Data columns (total 5 columns):\n",
      " #   Column      Non-Null Count  Dtype \n",
      "---  ------      --------------  ----- \n",
      " 0   names       100 non-null    object\n",
      " 1   prices      100 non-null    object\n",
      " 2   sku         100 non-null    object\n",
      " 3   categories  100 non-null    object\n",
      " 4   tag         100 non-null    object\n",
      "dtypes: object(5)\n",
      "memory usage: 4.0+ KB\n"
     ]
    }
   ],
   "source": [
    "df.info()"
   ]
  },
  {
   "cell_type": "markdown",
   "id": "6a76816d",
   "metadata": {},
   "source": [
    "##  Clean the price column\n",
    "\n",
    "Remove the currency symbol"
   ]
  },
  {
   "cell_type": "code",
   "execution_count": 10,
   "id": "72c5a4e5",
   "metadata": {},
   "outputs": [],
   "source": [
    "df['prices'] = df['prices'].str.replace('₦','').astype(float)"
   ]
  },
  {
   "cell_type": "code",
   "execution_count": 11,
   "id": "48ec140f",
   "metadata": {},
   "outputs": [
    {
     "name": "stdout",
     "output_type": "stream",
     "text": [
      "<class 'pandas.core.frame.DataFrame'>\n",
      "RangeIndex: 100 entries, 0 to 99\n",
      "Data columns (total 5 columns):\n",
      " #   Column      Non-Null Count  Dtype  \n",
      "---  ------      --------------  -----  \n",
      " 0   names       100 non-null    object \n",
      " 1   prices      100 non-null    float64\n",
      " 2   sku         100 non-null    object \n",
      " 3   categories  100 non-null    object \n",
      " 4   tag         100 non-null    object \n",
      "dtypes: float64(1), object(4)\n",
      "memory usage: 4.0+ KB\n"
     ]
    }
   ],
   "source": [
    "df.info()"
   ]
  },
  {
   "cell_type": "markdown",
   "id": "6b8d7dc3",
   "metadata": {},
   "source": [
    "### Clean the category Column"
   ]
  },
  {
   "cell_type": "code",
   "execution_count": 12,
   "id": "39e7c697",
   "metadata": {},
   "outputs": [],
   "source": [
    "df['categories'] = df['categories'].str.replace('category: ', '')"
   ]
  },
  {
   "cell_type": "markdown",
   "id": "26fb4649",
   "metadata": {},
   "source": [
    "### Clean the tag column"
   ]
  },
  {
   "cell_type": "code",
   "execution_count": 13,
   "id": "58aa6e63",
   "metadata": {},
   "outputs": [],
   "source": [
    "df['tag'] = df['tag'].str.replace('tag: ', '')"
   ]
  },
  {
   "cell_type": "code",
   "execution_count": 15,
   "id": "7786906c",
   "metadata": {},
   "outputs": [
    {
     "data": {
      "text/html": [
       "<div>\n",
       "<style scoped>\n",
       "    .dataframe tbody tr th:only-of-type {\n",
       "        vertical-align: middle;\n",
       "    }\n",
       "\n",
       "    .dataframe tbody tr th {\n",
       "        vertical-align: top;\n",
       "    }\n",
       "\n",
       "    .dataframe thead th {\n",
       "        text-align: right;\n",
       "    }\n",
       "</style>\n",
       "<table border=\"1\" class=\"dataframe\">\n",
       "  <thead>\n",
       "    <tr style=\"text-align: right;\">\n",
       "      <th></th>\n",
       "      <th>names</th>\n",
       "      <th>prices</th>\n",
       "      <th>sku</th>\n",
       "      <th>categories</th>\n",
       "      <th>tag</th>\n",
       "    </tr>\n",
       "  </thead>\n",
       "  <tbody>\n",
       "    <tr>\n",
       "      <th>0</th>\n",
       "      <td>Chewy Caramel Alpenliebe 6.5G</td>\n",
       "      <td>34.99</td>\n",
       "      <td>Candy Milk Chewy Caramel Alpenliebe 6.5G</td>\n",
       "      <td>Category: Confectionery and Snacks</td>\n",
       "      <td>Tag: Candy</td>\n",
       "    </tr>\n",
       "    <tr>\n",
       "      <th>1</th>\n",
       "      <td>Milk Chewy Caramel Alpenliebe 6.5G</td>\n",
       "      <td>34.99</td>\n",
       "      <td>Milk Chewy Caramel Alpenliebe 6.5G</td>\n",
       "      <td>Category: Candy &amp; bubble Gum</td>\n",
       "      <td>Tag: Alpenliebe</td>\n",
       "    </tr>\n",
       "    <tr>\n",
       "      <th>2</th>\n",
       "      <td>Seasoning Powder Jollof Maggi 8G</td>\n",
       "      <td>52.99</td>\n",
       "      <td>Seasoning Powder Jollof Maggi 8G</td>\n",
       "      <td>Category: Condiments, Oils &amp; Spices</td>\n",
       "      <td>Tag: Seasoning</td>\n",
       "    </tr>\n",
       "    <tr>\n",
       "      <th>3</th>\n",
       "      <td>Seasoning Powder Chicken Maggi 10G</td>\n",
       "      <td>52.99</td>\n",
       "      <td>Seasoning Powder Chicken Maggi 10G</td>\n",
       "      <td>Category: Condiments, Oils &amp; Spices</td>\n",
       "      <td>Tag: Seasoning</td>\n",
       "    </tr>\n",
       "    <tr>\n",
       "      <th>4</th>\n",
       "      <td>Chocolate Slab Milk Dune 5G</td>\n",
       "      <td>54.99</td>\n",
       "      <td>Chocolate Slab Milk Dune 5G</td>\n",
       "      <td>Category: Chocolate</td>\n",
       "      <td>Tag: Chocolate</td>\n",
       "    </tr>\n",
       "  </tbody>\n",
       "</table>\n",
       "</div>"
      ],
      "text/plain": [
       "                                names  prices  \\\n",
       "0      Chewy Caramel Alpenliebe 6.5G    34.99   \n",
       "1  Milk Chewy Caramel Alpenliebe 6.5G   34.99   \n",
       "2    Seasoning Powder Jollof Maggi 8G   52.99   \n",
       "3  Seasoning Powder Chicken Maggi 10G   52.99   \n",
       "4         Chocolate Slab Milk Dune 5G   54.99   \n",
       "\n",
       "                                         sku  \\\n",
       "0  Candy Milk Chewy Caramel Alpenliebe 6.5G    \n",
       "1         Milk Chewy Caramel Alpenliebe 6.5G   \n",
       "2           Seasoning Powder Jollof Maggi 8G   \n",
       "3         Seasoning Powder Chicken Maggi 10G   \n",
       "4                Chocolate Slab Milk Dune 5G   \n",
       "\n",
       "                            categories              tag  \n",
       "0   Category: Confectionery and Snacks       Tag: Candy  \n",
       "1         Category: Candy & bubble Gum  Tag: Alpenliebe  \n",
       "2  Category: Condiments, Oils & Spices   Tag: Seasoning  \n",
       "3  Category: Condiments, Oils & Spices   Tag: Seasoning  \n",
       "4                  Category: Chocolate   Tag: Chocolate  "
      ]
     },
     "execution_count": 15,
     "metadata": {},
     "output_type": "execute_result"
    }
   ],
   "source": [
    "df.head()"
   ]
  },
  {
   "cell_type": "markdown",
   "id": "3e04971e",
   "metadata": {},
   "source": [
    "## Find fields with Null"
   ]
  },
  {
   "cell_type": "code",
   "execution_count": null,
   "id": "b2b92e10",
   "metadata": {},
   "outputs": [],
   "source": [
    "def replace-null(col):\n",
    "    if (df[col] == 'Null'"
   ]
  }
 ],
 "metadata": {
  "kernelspec": {
   "display_name": "Python 3 (ipykernel)",
   "language": "python",
   "name": "python3"
  },
  "language_info": {
   "codemirror_mode": {
    "name": "ipython",
    "version": 3
   },
   "file_extension": ".py",
   "mimetype": "text/x-python",
   "name": "python",
   "nbconvert_exporter": "python",
   "pygments_lexer": "ipython3",
   "version": "3.9.12"
  }
 },
 "nbformat": 4,
 "nbformat_minor": 5
}
