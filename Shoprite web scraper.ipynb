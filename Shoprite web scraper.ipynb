{
 "cells": [
  {
   "cell_type": "markdown",
   "id": "93d6db85",
   "metadata": {},
   "source": [
    "## Web Scraping"
   ]
  },
  {
   "cell_type": "code",
   "execution_count": 1,
   "id": "7a0cb199",
   "metadata": {},
   "outputs": [],
   "source": [
    "# import library\n",
    "import requests"
   ]
  },
  {
   "cell_type": "code",
   "execution_count": 2,
   "id": "c5843fdb",
   "metadata": {},
   "outputs": [],
   "source": [
    "# make a get request\n",
    "r = requests.get('https://httpbin.org/basic-auth/user/pass', auth=('user', 'pass'))"
   ]
  },
  {
   "cell_type": "code",
   "execution_count": 3,
   "id": "145a9af6",
   "metadata": {},
   "outputs": [
    {
     "data": {
      "text/plain": [
       "200"
      ]
     },
     "execution_count": 3,
     "metadata": {},
     "output_type": "execute_result"
    }
   ],
   "source": [
    "r.status_code"
   ]
  },
  {
   "cell_type": "code",
   "execution_count": 4,
   "id": "7a853a41",
   "metadata": {},
   "outputs": [],
   "source": [
    "g = requests.get('https://www.google.com')"
   ]
  },
  {
   "cell_type": "code",
   "execution_count": 5,
   "id": "c819e921",
   "metadata": {},
   "outputs": [
    {
     "data": {
      "text/plain": [
       "200"
      ]
     },
     "execution_count": 5,
     "metadata": {},
     "output_type": "execute_result"
    }
   ],
   "source": [
    "g.status_code"
   ]
  },
  {
   "cell_type": "markdown",
   "id": "dbdd492d",
   "metadata": {},
   "source": [
    "## Make a request to Shoprite"
   ]
  },
  {
   "cell_type": "code",
   "execution_count": 6,
   "id": "dbf0c33f",
   "metadata": {},
   "outputs": [],
   "source": [
    "res = requests.get('https://shoprite.ng/shop/')"
   ]
  },
  {
   "cell_type": "code",
   "execution_count": 7,
   "id": "4cc05cea",
   "metadata": {},
   "outputs": [
    {
     "data": {
      "text/plain": [
       "200"
      ]
     },
     "execution_count": 7,
     "metadata": {},
     "output_type": "execute_result"
    }
   ],
   "source": [
    "res.status_code"
   ]
  },
  {
   "cell_type": "markdown",
   "id": "775b296d",
   "metadata": {},
   "source": [
    "## Make a Soup"
   ]
  },
  {
   "cell_type": "code",
   "execution_count": 8,
   "id": "7d5a96e9",
   "metadata": {},
   "outputs": [
    {
     "name": "stdout",
     "output_type": "stream",
     "text": [
      "Defaulting to user installation because normal site-packages is not writeable\n",
      "Requirement already satisfied: beautifulsoup4 in c:\\programdata\\anaconda3\\lib\\site-packages (4.11.1)\n",
      "Requirement already satisfied: soupsieve>1.2 in c:\\programdata\\anaconda3\\lib\\site-packages (from beautifulsoup4) (2.3.1)\n"
     ]
    }
   ],
   "source": [
    "!pip install beautifulsoup4"
   ]
  },
  {
   "cell_type": "code",
   "execution_count": 9,
   "id": "45f5c480",
   "metadata": {},
   "outputs": [],
   "source": [
    "from bs4 import BeautifulSoup"
   ]
  },
  {
   "cell_type": "code",
   "execution_count": 10,
   "id": "7eacc346",
   "metadata": {},
   "outputs": [],
   "source": [
    "# CREATE an object of beautifulsoup\n",
    "soup = BeautifulSoup(res.content, 'html.parser')"
   ]
  },
  {
   "cell_type": "code",
   "execution_count": 11,
   "id": "30387e82",
   "metadata": {},
   "outputs": [
    {
     "name": "stdout",
     "output_type": "stream",
     "text": [
      "['', '18 Glenfiddich 750Ml', '2sure Bath Soap Herbal Plus 120g', '2X Snickers 80G', '33 Export 500Ml Can', '5 Alive 780Ml, Berry Blast', '5 Alive 780Ml, Citrus Burst', '7 Up 500Ml NRB, Original', '7Up 50Cl', 'Active Go Milo 20G', 'Active Go Milo 400G Sachet', 'Air Freshener Gel Airwick 45G, Rose', 'Air freshener Ref Airwick 250Ml, Aqua', 'Air freshener Ref Airwick 250Ml, Lav', 'Air Freshner Gel Airwick 45G, Lav', 'Airfryer Model Baf-3501 Binatone 3.5L', 'Airwick 2X250Ml', 'Airwick 2X250Ml, Citrus\\xa0', 'Airwick Fmat 250Ml, Citrus\\xa0', 'Amazing Day Golden Penny 600G', 'American Aviation 750Ml', 'American Honey 750Ml', 'Ankara & Colour Ariel 2Kg\\xa0', 'Ankara Ariel 400G', 'Antiseptic Liquid Savlon 250Ml Pack', 'Antiseptic Liquid Savlon 500Ml Pack', 'Antiseptic Liquid Savlon 500Ml Pack', 'Antiseptic Liquid Savlon 750Ml', 'Aperitif Herb Bitters Orijin 330Ml Can', 'Aperitif Herb Bitters Orijin 750Ml', 'Aperitifs Bitters Confam 750Ml', 'Apperito Bitters  375Ml', 'Apple Caprisonne 100Ml Pouch', 'Apple Caprisonne 200Ml Pouch', 'Apple Fuji 1.5Kg', 'Apples X 6', 'Ariel  Ankara & Colour  800G', 'Ariel Auto 1.8Kg\\xa0', 'Avocado Per Kg', 'Baileys Delight 750Ml']\n"
     ]
    }
   ],
   "source": [
    "all_product_name = soup.find_all('h2')\n",
    "names = [] # an empty list to store all na\n",
    "\n",
    "for product in all_product_name:\n",
    "    prod = product.get_text()\n",
    "    #append each names to list\n",
    "    names.append(prod)\n",
    "    \n",
    "#print out all names\n",
    "print(names)"
   ]
  },
  {
   "cell_type": "code",
   "execution_count": 12,
   "id": "f48f97d3",
   "metadata": {},
   "outputs": [
    {
     "data": {
      "text/plain": [
       "[<bdi><span class=\"woocommerce-Price-currencySymbol\">₦</span>1,799.99</bdi>,\n",
       " <bdi><span class=\"woocommerce-Price-currencySymbol\">₦</span>54,999.99</bdi>,\n",
       " <bdi><span class=\"woocommerce-Price-currencySymbol\">₦</span>349.99</bdi>,\n",
       " <bdi><span class=\"woocommerce-Price-currencySymbol\">₦</span>899.99</bdi>,\n",
       " <bdi><span class=\"woocommerce-Price-currencySymbol\">₦</span>349.99</bdi>,\n",
       " <bdi><span class=\"woocommerce-Price-currencySymbol\">₦</span>499.99</bdi>,\n",
       " <bdi><span class=\"woocommerce-Price-currencySymbol\">₦</span>499.99</bdi>,\n",
       " <bdi><span class=\"woocommerce-Price-currencySymbol\">₦</span>199.99</bdi>,\n",
       " <bdi><span class=\"woocommerce-Price-currencySymbol\">₦</span>199.99</bdi>,\n",
       " <bdi><span class=\"woocommerce-Price-currencySymbol\">₦</span>79.99</bdi>,\n",
       " <bdi><span class=\"woocommerce-Price-currencySymbol\">₦</span>1,549.99</bdi>,\n",
       " <bdi><span class=\"woocommerce-Price-currencySymbol\">₦</span>399.99</bdi>,\n",
       " <bdi><span class=\"woocommerce-Price-currencySymbol\">₦</span>4,199.99</bdi>,\n",
       " <bdi><span class=\"woocommerce-Price-currencySymbol\">₦</span>4,199.99</bdi>,\n",
       " <bdi><span class=\"woocommerce-Price-currencySymbol\">₦</span>399.99</bdi>,\n",
       " <bdi><span class=\"woocommerce-Price-currencySymbol\">₦</span>77,799.99</bdi>,\n",
       " <bdi><span class=\"woocommerce-Price-currencySymbol\">₦</span>6,699.99</bdi>,\n",
       " <bdi><span class=\"woocommerce-Price-currencySymbol\">₦</span>6,699.99</bdi>,\n",
       " <bdi><span class=\"woocommerce-Price-currencySymbol\">₦</span>3,199.99</bdi>,\n",
       " <bdi><span class=\"woocommerce-Price-currencySymbol\">₦</span>1,199.99</bdi>,\n",
       " <bdi><span class=\"woocommerce-Price-currencySymbol\">₦</span>16,999.99</bdi>,\n",
       " <bdi><span class=\"woocommerce-Price-currencySymbol\">₦</span>750.00</bdi>,\n",
       " <bdi><span class=\"woocommerce-Price-currencySymbol\">₦</span>3,499.99</bdi>,\n",
       " <bdi><span class=\"woocommerce-Price-currencySymbol\">₦</span>1,009.99</bdi>,\n",
       " <bdi><span class=\"woocommerce-Price-currencySymbol\">₦</span>1,099.99</bdi>,\n",
       " <bdi><span class=\"woocommerce-Price-currencySymbol\">₦</span>1,899.99</bdi>,\n",
       " <bdi><span class=\"woocommerce-Price-currencySymbol\">₦</span>1,899.99</bdi>,\n",
       " <bdi><span class=\"woocommerce-Price-currencySymbol\">₦</span>2,699.99</bdi>,\n",
       " <bdi><span class=\"woocommerce-Price-currencySymbol\">₦</span>399.99</bdi>,\n",
       " <bdi><span class=\"woocommerce-Price-currencySymbol\">₦</span>1,799.99</bdi>,\n",
       " <bdi><span class=\"woocommerce-Price-currencySymbol\">₦</span>1,699.99</bdi>,\n",
       " <bdi><span class=\"woocommerce-Price-currencySymbol\">₦</span>1,499.99</bdi>,\n",
       " <bdi><span class=\"woocommerce-Price-currencySymbol\">₦</span>89.99</bdi>,\n",
       " <bdi><span class=\"woocommerce-Price-currencySymbol\">₦</span>109.99</bdi>,\n",
       " <bdi><span class=\"woocommerce-Price-currencySymbol\">₦</span>2,749.99</bdi>,\n",
       " <bdi><span class=\"woocommerce-Price-currencySymbol\">₦</span>2,749.99</bdi>,\n",
       " <bdi><span class=\"woocommerce-Price-currencySymbol\">₦</span>1,699.99</bdi>,\n",
       " <bdi><span class=\"woocommerce-Price-currencySymbol\">₦</span>4,199.99</bdi>,\n",
       " <bdi><span class=\"woocommerce-Price-currencySymbol\">₦</span>1,899.99</bdi>,\n",
       " <bdi><span class=\"woocommerce-Price-currencySymbol\">₦</span>3,599.99</bdi>]"
      ]
     },
     "execution_count": 12,
     "metadata": {},
     "output_type": "execute_result"
    }
   ],
   "source": [
    "soup.find_all('bdi')"
   ]
  },
  {
   "cell_type": "code",
   "execution_count": 13,
   "id": "bf4ecf1a",
   "metadata": {},
   "outputs": [
    {
     "name": "stdout",
     "output_type": "stream",
     "text": [
      "['₦1,799.99', '₦54,999.99', '₦349.99', '₦899.99', '₦349.99', '₦499.99', '₦499.99', '₦199.99', '₦199.99', '₦79.99', '₦1,549.99', '₦399.99', '₦4,199.99', '₦4,199.99', '₦399.99', '₦77,799.99', '₦6,699.99', '₦6,699.99', '₦3,199.99', '₦1,199.99', '₦16,999.99', '₦750.00', '₦3,499.99', '₦1,009.99', '₦1,099.99', '₦1,899.99', '₦1,899.99', '₦2,699.99', '₦399.99', '₦1,799.99', '₦1,699.99', '₦1,499.99', '₦89.99', '₦109.99', '₦2,749.99', '₦2,749.99', '₦1,699.99', '₦4,199.99', '₦1,899.99', '₦3,599.99']\n"
     ]
    }
   ],
   "source": [
    "all_prices = soup.find_all('bdi')\n",
    "prices = [] # an empty list to store all na\n",
    "\n",
    "for price in all_prices:\n",
    "    price = price.get_text()\n",
    "    #append each price to list\n",
    "    prices.append(price)\n",
    "    \n",
    "#print out all prices\n",
    "print(prices)"
   ]
  },
  {
   "cell_type": "markdown",
   "id": "1764d636",
   "metadata": {},
   "source": [
    "## Refactoring Code"
   ]
  },
  {
   "cell_type": "code",
   "execution_count": 14,
   "id": "c2712b33",
   "metadata": {},
   "outputs": [],
   "source": [
    "# get the content of an HTML tag\n",
    "def get_contents(tag):\n",
    "    items = soup.find_all(tag) # find all give tag\n",
    "    values = [] # empty list\n",
    "    \n",
    "    for item in items:\n",
    "        text = item.get_text() # get text of each tag\n",
    "        values.append(text)\n",
    "        \n",
    "    return values"
   ]
  },
  {
   "cell_type": "code",
   "execution_count": 15,
   "id": "f88ff01b",
   "metadata": {},
   "outputs": [
    {
     "name": "stdout",
     "output_type": "stream",
     "text": [
      "You have successfully made a request to https://shoprite.ng/shop/.\n"
     ]
    }
   ],
   "source": [
    "# make a request\n",
    "try:\n",
    "    res = requests.get(url = 'https://shoprite.ng/shop/')\n",
    "    status = res.status_code\n",
    "    \n",
    "    if status == 200:\n",
    "        print(f\"You have successfully made a request to {res.url}.\")\n",
    "    else:\n",
    "        print(f'Status Code: {status}')\n",
    "except:\n",
    "    print(f'Status Code: {status}')\n",
    "finally:\n",
    "    content = res.content"
   ]
  },
  {
   "cell_type": "code",
   "execution_count": 16,
   "id": "39b2c6c8",
   "metadata": {},
   "outputs": [],
   "source": [
    "# create an object of beautiful shop\n",
    "soup = BeautifulSoup(content,\"html.parser\")"
   ]
  },
  {
   "cell_type": "code",
   "execution_count": 17,
   "id": "30dbf57e",
   "metadata": {},
   "outputs": [],
   "source": [
    "# define an empty dictionary\n",
    "products = {}"
   ]
  },
  {
   "cell_type": "code",
   "execution_count": 18,
   "id": "daafca67",
   "metadata": {},
   "outputs": [],
   "source": [
    "# get all the product name\n",
    "names = get_contents('h2')\n",
    "\n",
    "# get all the product price\n",
    "prices = get_contents('bdi')"
   ]
  },
  {
   "cell_type": "code",
   "execution_count": 19,
   "id": "e2d7f914",
   "metadata": {},
   "outputs": [],
   "source": [
    "products.update({\"names\":names,\"prices\":prices})"
   ]
  },
  {
   "cell_type": "code",
   "execution_count": 20,
   "id": "bbb6f8d1",
   "metadata": {},
   "outputs": [],
   "source": [
    "import pandas as pd"
   ]
  },
  {
   "cell_type": "code",
   "execution_count": 21,
   "id": "e7e3c144",
   "metadata": {},
   "outputs": [],
   "source": [
    "shop_df = pd.DataFrame(products)"
   ]
  },
  {
   "cell_type": "code",
   "execution_count": 22,
   "id": "8d77c5d3",
   "metadata": {},
   "outputs": [
    {
     "data": {
      "text/html": [
       "<div>\n",
       "<style scoped>\n",
       "    .dataframe tbody tr th:only-of-type {\n",
       "        vertical-align: middle;\n",
       "    }\n",
       "\n",
       "    .dataframe tbody tr th {\n",
       "        vertical-align: top;\n",
       "    }\n",
       "\n",
       "    .dataframe thead th {\n",
       "        text-align: right;\n",
       "    }\n",
       "</style>\n",
       "<table border=\"1\" class=\"dataframe\">\n",
       "  <thead>\n",
       "    <tr style=\"text-align: right;\">\n",
       "      <th></th>\n",
       "      <th>names</th>\n",
       "      <th>prices</th>\n",
       "    </tr>\n",
       "  </thead>\n",
       "  <tbody>\n",
       "    <tr>\n",
       "      <th>0</th>\n",
       "      <td></td>\n",
       "      <td>₦1,799.99</td>\n",
       "    </tr>\n",
       "    <tr>\n",
       "      <th>1</th>\n",
       "      <td>18 Glenfiddich 750Ml</td>\n",
       "      <td>₦54,999.99</td>\n",
       "    </tr>\n",
       "    <tr>\n",
       "      <th>2</th>\n",
       "      <td>2sure Bath Soap Herbal Plus 120g</td>\n",
       "      <td>₦349.99</td>\n",
       "    </tr>\n",
       "    <tr>\n",
       "      <th>3</th>\n",
       "      <td>2X Snickers 80G</td>\n",
       "      <td>₦899.99</td>\n",
       "    </tr>\n",
       "    <tr>\n",
       "      <th>4</th>\n",
       "      <td>33 Export 500Ml Can</td>\n",
       "      <td>₦349.99</td>\n",
       "    </tr>\n",
       "    <tr>\n",
       "      <th>5</th>\n",
       "      <td>5 Alive 780Ml, Berry Blast</td>\n",
       "      <td>₦499.99</td>\n",
       "    </tr>\n",
       "    <tr>\n",
       "      <th>6</th>\n",
       "      <td>5 Alive 780Ml, Citrus Burst</td>\n",
       "      <td>₦499.99</td>\n",
       "    </tr>\n",
       "    <tr>\n",
       "      <th>7</th>\n",
       "      <td>7 Up 500Ml NRB, Original</td>\n",
       "      <td>₦199.99</td>\n",
       "    </tr>\n",
       "    <tr>\n",
       "      <th>8</th>\n",
       "      <td>7Up 50Cl</td>\n",
       "      <td>₦199.99</td>\n",
       "    </tr>\n",
       "    <tr>\n",
       "      <th>9</th>\n",
       "      <td>Active Go Milo 20G</td>\n",
       "      <td>₦79.99</td>\n",
       "    </tr>\n",
       "    <tr>\n",
       "      <th>10</th>\n",
       "      <td>Active Go Milo 400G Sachet</td>\n",
       "      <td>₦1,549.99</td>\n",
       "    </tr>\n",
       "    <tr>\n",
       "      <th>11</th>\n",
       "      <td>Air Freshener Gel Airwick 45G, Rose</td>\n",
       "      <td>₦399.99</td>\n",
       "    </tr>\n",
       "    <tr>\n",
       "      <th>12</th>\n",
       "      <td>Air freshener Ref Airwick 250Ml, Aqua</td>\n",
       "      <td>₦4,199.99</td>\n",
       "    </tr>\n",
       "    <tr>\n",
       "      <th>13</th>\n",
       "      <td>Air freshener Ref Airwick 250Ml, Lav</td>\n",
       "      <td>₦4,199.99</td>\n",
       "    </tr>\n",
       "    <tr>\n",
       "      <th>14</th>\n",
       "      <td>Air Freshner Gel Airwick 45G, Lav</td>\n",
       "      <td>₦399.99</td>\n",
       "    </tr>\n",
       "    <tr>\n",
       "      <th>15</th>\n",
       "      <td>Airfryer Model Baf-3501 Binatone 3.5L</td>\n",
       "      <td>₦77,799.99</td>\n",
       "    </tr>\n",
       "    <tr>\n",
       "      <th>16</th>\n",
       "      <td>Airwick 2X250Ml</td>\n",
       "      <td>₦6,699.99</td>\n",
       "    </tr>\n",
       "    <tr>\n",
       "      <th>17</th>\n",
       "      <td>Airwick 2X250Ml, Citrus</td>\n",
       "      <td>₦6,699.99</td>\n",
       "    </tr>\n",
       "    <tr>\n",
       "      <th>18</th>\n",
       "      <td>Airwick Fmat 250Ml, Citrus</td>\n",
       "      <td>₦3,199.99</td>\n",
       "    </tr>\n",
       "    <tr>\n",
       "      <th>19</th>\n",
       "      <td>Amazing Day Golden Penny 600G</td>\n",
       "      <td>₦1,199.99</td>\n",
       "    </tr>\n",
       "    <tr>\n",
       "      <th>20</th>\n",
       "      <td>American Aviation 750Ml</td>\n",
       "      <td>₦16,999.99</td>\n",
       "    </tr>\n",
       "    <tr>\n",
       "      <th>21</th>\n",
       "      <td>American Honey 750Ml</td>\n",
       "      <td>₦750.00</td>\n",
       "    </tr>\n",
       "    <tr>\n",
       "      <th>22</th>\n",
       "      <td>Ankara &amp; Colour Ariel 2Kg</td>\n",
       "      <td>₦3,499.99</td>\n",
       "    </tr>\n",
       "    <tr>\n",
       "      <th>23</th>\n",
       "      <td>Ankara Ariel 400G</td>\n",
       "      <td>₦1,009.99</td>\n",
       "    </tr>\n",
       "    <tr>\n",
       "      <th>24</th>\n",
       "      <td>Antiseptic Liquid Savlon 250Ml Pack</td>\n",
       "      <td>₦1,099.99</td>\n",
       "    </tr>\n",
       "    <tr>\n",
       "      <th>25</th>\n",
       "      <td>Antiseptic Liquid Savlon 500Ml Pack</td>\n",
       "      <td>₦1,899.99</td>\n",
       "    </tr>\n",
       "    <tr>\n",
       "      <th>26</th>\n",
       "      <td>Antiseptic Liquid Savlon 500Ml Pack</td>\n",
       "      <td>₦1,899.99</td>\n",
       "    </tr>\n",
       "    <tr>\n",
       "      <th>27</th>\n",
       "      <td>Antiseptic Liquid Savlon 750Ml</td>\n",
       "      <td>₦2,699.99</td>\n",
       "    </tr>\n",
       "    <tr>\n",
       "      <th>28</th>\n",
       "      <td>Aperitif Herb Bitters Orijin 330Ml Can</td>\n",
       "      <td>₦399.99</td>\n",
       "    </tr>\n",
       "    <tr>\n",
       "      <th>29</th>\n",
       "      <td>Aperitif Herb Bitters Orijin 750Ml</td>\n",
       "      <td>₦1,799.99</td>\n",
       "    </tr>\n",
       "    <tr>\n",
       "      <th>30</th>\n",
       "      <td>Aperitifs Bitters Confam 750Ml</td>\n",
       "      <td>₦1,699.99</td>\n",
       "    </tr>\n",
       "    <tr>\n",
       "      <th>31</th>\n",
       "      <td>Apperito Bitters  375Ml</td>\n",
       "      <td>₦1,499.99</td>\n",
       "    </tr>\n",
       "    <tr>\n",
       "      <th>32</th>\n",
       "      <td>Apple Caprisonne 100Ml Pouch</td>\n",
       "      <td>₦89.99</td>\n",
       "    </tr>\n",
       "    <tr>\n",
       "      <th>33</th>\n",
       "      <td>Apple Caprisonne 200Ml Pouch</td>\n",
       "      <td>₦109.99</td>\n",
       "    </tr>\n",
       "    <tr>\n",
       "      <th>34</th>\n",
       "      <td>Apple Fuji 1.5Kg</td>\n",
       "      <td>₦2,749.99</td>\n",
       "    </tr>\n",
       "    <tr>\n",
       "      <th>35</th>\n",
       "      <td>Apples X 6</td>\n",
       "      <td>₦2,749.99</td>\n",
       "    </tr>\n",
       "    <tr>\n",
       "      <th>36</th>\n",
       "      <td>Ariel  Ankara &amp; Colour  800G</td>\n",
       "      <td>₦1,699.99</td>\n",
       "    </tr>\n",
       "    <tr>\n",
       "      <th>37</th>\n",
       "      <td>Ariel Auto 1.8Kg</td>\n",
       "      <td>₦4,199.99</td>\n",
       "    </tr>\n",
       "    <tr>\n",
       "      <th>38</th>\n",
       "      <td>Avocado Per Kg</td>\n",
       "      <td>₦1,899.99</td>\n",
       "    </tr>\n",
       "    <tr>\n",
       "      <th>39</th>\n",
       "      <td>Baileys Delight 750Ml</td>\n",
       "      <td>₦3,599.99</td>\n",
       "    </tr>\n",
       "  </tbody>\n",
       "</table>\n",
       "</div>"
      ],
      "text/plain": [
       "                                     names      prices\n",
       "0                                            ₦1,799.99\n",
       "1                     18 Glenfiddich 750Ml  ₦54,999.99\n",
       "2         2sure Bath Soap Herbal Plus 120g     ₦349.99\n",
       "3                          2X Snickers 80G     ₦899.99\n",
       "4                      33 Export 500Ml Can     ₦349.99\n",
       "5               5 Alive 780Ml, Berry Blast     ₦499.99\n",
       "6              5 Alive 780Ml, Citrus Burst     ₦499.99\n",
       "7                 7 Up 500Ml NRB, Original     ₦199.99\n",
       "8                                 7Up 50Cl     ₦199.99\n",
       "9                       Active Go Milo 20G      ₦79.99\n",
       "10              Active Go Milo 400G Sachet   ₦1,549.99\n",
       "11     Air Freshener Gel Airwick 45G, Rose     ₦399.99\n",
       "12   Air freshener Ref Airwick 250Ml, Aqua   ₦4,199.99\n",
       "13    Air freshener Ref Airwick 250Ml, Lav   ₦4,199.99\n",
       "14       Air Freshner Gel Airwick 45G, Lav     ₦399.99\n",
       "15   Airfryer Model Baf-3501 Binatone 3.5L  ₦77,799.99\n",
       "16                         Airwick 2X250Ml   ₦6,699.99\n",
       "17                Airwick 2X250Ml, Citrus    ₦6,699.99\n",
       "18             Airwick Fmat 250Ml, Citrus    ₦3,199.99\n",
       "19           Amazing Day Golden Penny 600G   ₦1,199.99\n",
       "20                 American Aviation 750Ml  ₦16,999.99\n",
       "21                    American Honey 750Ml     ₦750.00\n",
       "22              Ankara & Colour Ariel 2Kg    ₦3,499.99\n",
       "23                       Ankara Ariel 400G   ₦1,009.99\n",
       "24     Antiseptic Liquid Savlon 250Ml Pack   ₦1,099.99\n",
       "25     Antiseptic Liquid Savlon 500Ml Pack   ₦1,899.99\n",
       "26     Antiseptic Liquid Savlon 500Ml Pack   ₦1,899.99\n",
       "27          Antiseptic Liquid Savlon 750Ml   ₦2,699.99\n",
       "28  Aperitif Herb Bitters Orijin 330Ml Can     ₦399.99\n",
       "29      Aperitif Herb Bitters Orijin 750Ml   ₦1,799.99\n",
       "30          Aperitifs Bitters Confam 750Ml   ₦1,699.99\n",
       "31                 Apperito Bitters  375Ml   ₦1,499.99\n",
       "32            Apple Caprisonne 100Ml Pouch      ₦89.99\n",
       "33            Apple Caprisonne 200Ml Pouch     ₦109.99\n",
       "34                        Apple Fuji 1.5Kg   ₦2,749.99\n",
       "35                              Apples X 6   ₦2,749.99\n",
       "36            Ariel  Ankara & Colour  800G   ₦1,699.99\n",
       "37                       Ariel Auto 1.8Kg    ₦4,199.99\n",
       "38                          Avocado Per Kg   ₦1,899.99\n",
       "39                   Baileys Delight 750Ml   ₦3,599.99"
      ]
     },
     "execution_count": 22,
     "metadata": {},
     "output_type": "execute_result"
    }
   ],
   "source": [
    "shop_df"
   ]
  },
  {
   "cell_type": "code",
   "execution_count": 23,
   "id": "cbd20d96",
   "metadata": {},
   "outputs": [
    {
     "data": {
      "text/plain": [
       "(200, 2)"
      ]
     },
     "execution_count": 23,
     "metadata": {},
     "output_type": "execute_result"
    }
   ],
   "source": [
    "# empty dictionary\n",
    "all_products = {\n",
    "    \"names\": [],\n",
    "    \"prices\": []\n",
    "}\n",
    "# make a request to 5 pages\n",
    "for page in range(1,6):\n",
    "    url = f\"https://shoprite.ng/shop/?product-page={page}\"\n",
    "    res = requests.get(url)\n",
    "    \n",
    "    #create an object of BeautifulShop\n",
    "    soup = BeautifulSoup(res.content,\"html.parser\")\n",
    "    \n",
    "    # get product name\n",
    "    names = get_contents('h2')\n",
    "\n",
    "    # get all the product price\n",
    "    prices = get_contents('bdi')\n",
    "    \n",
    "    all_products['names'].extend(names)\n",
    "    all_products['prices'].extend(prices)\n",
    "\n",
    "all_df = pd.DataFrame(all_products)\n",
    "all_df.shape"
   ]
  },
  {
   "cell_type": "code",
   "execution_count": 24,
   "id": "6b5ea912",
   "metadata": {},
   "outputs": [
    {
     "data": {
      "text/html": [
       "<div>\n",
       "<style scoped>\n",
       "    .dataframe tbody tr th:only-of-type {\n",
       "        vertical-align: middle;\n",
       "    }\n",
       "\n",
       "    .dataframe tbody tr th {\n",
       "        vertical-align: top;\n",
       "    }\n",
       "\n",
       "    .dataframe thead th {\n",
       "        text-align: right;\n",
       "    }\n",
       "</style>\n",
       "<table border=\"1\" class=\"dataframe\">\n",
       "  <thead>\n",
       "    <tr style=\"text-align: right;\">\n",
       "      <th></th>\n",
       "      <th>names</th>\n",
       "      <th>prices</th>\n",
       "    </tr>\n",
       "  </thead>\n",
       "  <tbody>\n",
       "    <tr>\n",
       "      <th>0</th>\n",
       "      <td></td>\n",
       "      <td>₦1,799.99</td>\n",
       "    </tr>\n",
       "    <tr>\n",
       "      <th>1</th>\n",
       "      <td>18 Glenfiddich 750Ml</td>\n",
       "      <td>₦54,999.99</td>\n",
       "    </tr>\n",
       "    <tr>\n",
       "      <th>2</th>\n",
       "      <td>2sure Bath Soap Herbal Plus 120g</td>\n",
       "      <td>₦349.99</td>\n",
       "    </tr>\n",
       "    <tr>\n",
       "      <th>3</th>\n",
       "      <td>2X Snickers 80G</td>\n",
       "      <td>₦899.99</td>\n",
       "    </tr>\n",
       "    <tr>\n",
       "      <th>4</th>\n",
       "      <td>33 Export 500Ml Can</td>\n",
       "      <td>₦349.99</td>\n",
       "    </tr>\n",
       "    <tr>\n",
       "      <th>...</th>\n",
       "      <td>...</td>\n",
       "      <td>...</td>\n",
       "    </tr>\n",
       "    <tr>\n",
       "      <th>195</th>\n",
       "      <td>Coffee INST 3 in1 Nescafe 250G</td>\n",
       "      <td>₦999.99</td>\n",
       "    </tr>\n",
       "    <tr>\n",
       "      <th>196</th>\n",
       "      <td>Cognac Blue Swift Vsop Martell 750Ml</td>\n",
       "      <td>₦52,499.99</td>\n",
       "    </tr>\n",
       "    <tr>\n",
       "      <th>197</th>\n",
       "      <td>Cognac Vs Hennessy 750Ml</td>\n",
       "      <td>₦35,599.99</td>\n",
       "    </tr>\n",
       "    <tr>\n",
       "      <th>198</th>\n",
       "      <td>Cognac Vs Hennessy 750Ml</td>\n",
       "      <td>₦30,499.99</td>\n",
       "    </tr>\n",
       "    <tr>\n",
       "      <th>199</th>\n",
       "      <td>Coke 350Ml Pet</td>\n",
       "      <td>₦129.99</td>\n",
       "    </tr>\n",
       "  </tbody>\n",
       "</table>\n",
       "<p>200 rows × 2 columns</p>\n",
       "</div>"
      ],
      "text/plain": [
       "                                    names      prices\n",
       "0                                           ₦1,799.99\n",
       "1                    18 Glenfiddich 750Ml  ₦54,999.99\n",
       "2        2sure Bath Soap Herbal Plus 120g     ₦349.99\n",
       "3                         2X Snickers 80G     ₦899.99\n",
       "4                     33 Export 500Ml Can     ₦349.99\n",
       "..                                    ...         ...\n",
       "195        Coffee INST 3 in1 Nescafe 250G     ₦999.99\n",
       "196  Cognac Blue Swift Vsop Martell 750Ml  ₦52,499.99\n",
       "197              Cognac Vs Hennessy 750Ml  ₦35,599.99\n",
       "198              Cognac Vs Hennessy 750Ml  ₦30,499.99\n",
       "199                        Coke 350Ml Pet     ₦129.99\n",
       "\n",
       "[200 rows x 2 columns]"
      ]
     },
     "execution_count": 24,
     "metadata": {},
     "output_type": "execute_result"
    }
   ],
   "source": [
    "all_df"
   ]
  },
  {
   "cell_type": "code",
   "execution_count": 26,
   "id": "c247e8cd",
   "metadata": {},
   "outputs": [
    {
     "data": {
      "text/plain": [
       "{'names': ['The Retailer of Choice Delivering Convenience, Quality, Exceptional Value  to Our Customers and Communities',\n",
       "  'Best Prices, Great Value',\n",
       "  'Snack Chin Chin Minimie 900G',\n",
       "  'Lemon Imported X6',\n",
       "  'Chips Pringles 165G, Original',\n",
       "  'Royalty Ginger Nuts Biscuits 300G',\n",
       "  'Belmont Milk Chocolate Biscuit 300G',\n",
       "  'Grain Smart Golden Morn 900G Pack',\n",
       "  'Fox Chunky Chocolate Cookies',\n",
       "  'Castilo Vino Rosado Rose Wine 750Ml',\n",
       "  'Apples X 6',\n",
       "  'Milk Powder Peak 400G Pack',\n",
       "  'Mich & Kay Plain Greek Yoghurt 400Ml',\n",
       "  'Goslo Cookies&Cream Ice Cream 320Ml',\n",
       "  'Chocolate Mini Snickers 150G Pack',\n",
       "  'Bounty Miniatures 150G',\n",
       "  'Titus Frozen Fish Gsf 1Kg',\n",
       "  'Oreo White Chocolate Biscuit 246G',\n",
       "  'Mens Deo Deep Nivea 200Ml',\n",
       "  'Nivea Pearl And Beauty Ladies Deodorant 200Ml',\n",
       "  'Fiesta French Fries Frozen Potatoes 1Kg',\n",
       "  'Tampax Super Plus Tampons 20S Pack',\n",
       "  'Natural Sweet Red Four Cousins 750ML',\n",
       "  'Sapphire Bombay Gin 750Ml',\n",
       "  'Nasco Corn Flakes 350ml',\n",
       "  'Ferrero Rocher Chocolate',\n",
       "  'Blue Band Spread For Bread 12x900G',\n",
       "  'Beer Lager Heineken 330ML Sleek',\n",
       "  'Chips Pringles 165G',\n",
       "  'Milk Powder Full Cream Peak 850G Pack',\n",
       "  'Natural Sweet Red Four Cousins 750ML',\n",
       "  'Blender BLG 402 Binatone',\n",
       "  'Bath Dettol 110G, Original',\n",
       "  'Juice Pulpy Orange 5 Alive 850ML'],\n",
       " 'prices': ['₦1,999.99',\n",
       "  '₦2,249.99',\n",
       "  '₦2,399.99',\n",
       "  '₦2,499.99',\n",
       "  '₦2,499.99',\n",
       "  '₦2,539.99',\n",
       "  '₦2,599.99',\n",
       "  '₦2,629.99',\n",
       "  '₦2,749.99',\n",
       "  '₦2,799.99',\n",
       "  '₦2,799.99',\n",
       "  '₦3,349.99',\n",
       "  '₦3,399.99',\n",
       "  '₦3,399.99',\n",
       "  '₦3,424.99',\n",
       "  '₦3,599.99',\n",
       "  '₦3,679.99',\n",
       "  '₦3,679.99',\n",
       "  '₦3,749.99',\n",
       "  '₦3,999.99',\n",
       "  '₦4,249.99',\n",
       "  '₦10,599.99',\n",
       "  '₦1,199.99',\n",
       "  '₦6,500.00',\n",
       "  '₦4,119.99',\n",
       "  '₦369.99',\n",
       "  '₦1,699.99',\n",
       "  '₦4,999.99',\n",
       "  '₦4,249.99',\n",
       "  '₦28,299.99',\n",
       "  '₦549.99',\n",
       "  '₦449.99'],\n",
       " 'sku': ['Juice Pulpy Orange 5 Alive 850ML'],\n",
       " 'categories': ['Categories: Carbonated Juices, Featured Products'],\n",
       " 'tag': ['Tag: carbonated drinks']}"
      ]
     },
     "execution_count": 26,
     "metadata": {},
     "output_type": "execute_result"
    }
   ],
   "source": [
    "# empty dictionary\n",
    "all_products = {\n",
    "    \"names\": [],\n",
    "    \"prices\": [],\n",
    "    \"sku\": [],\n",
    "    \"categories\": [],\n",
    "    \"tag\": []\n",
    "}\n",
    "\n",
    "# make a request to 5 pages\n",
    "for page in range(1,2):\n",
    "    url = f\"https://shoprite.ng/?product-page={page}\"\n",
    "    res = requests.get(url)\n",
    "    \n",
    "    #create an object of BeautifulShop\n",
    "    soup = BeautifulSoup(res.content,\"html.parser\")\n",
    "    \n",
    "    # get product name\n",
    "    names = get_contents('h2')\n",
    "\n",
    "    # get all the product price\n",
    "    prices = get_contents('bdi')\n",
    "    \n",
    "    for name in names:\n",
    "        single_prod_url = f\"https://shoprite.ng/product/{name}\".replace(' ','-')\n",
    "        r =requests.get(single_prod_url)\n",
    "        \n",
    "        soup = BeautifulSoup(r.content, 'html.parser')\n",
    "        \n",
    "        skus = []\n",
    "        categories = []\n",
    "        tags = []\n",
    "        \n",
    "        if soup.find('span',class_ = \"sku\") != None:\n",
    "            sku = soup.find('span', class_ =\"sku\").get_text()\n",
    "            skus.append(sku)\n",
    "        else:\n",
    "            sku = 'Null'\n",
    "            skus.append(sku)\n",
    "            \n",
    "        if soup.find('span',class_ = \"posted_in\") != None:\n",
    "            category = soup.find('span', class_ =\"posted_in\").get_text()\n",
    "            categories.append(category)\n",
    "        else:\n",
    "            category= 'Null'\n",
    "            categories.append(category)\n",
    "            \n",
    "        if soup.find('span',class_ = \"tagged_as\") != None:\n",
    "            tag = soup.find('span', class_ =\"tagged_as\").get_text()\n",
    "            tags.append(tag)\n",
    "        else:\n",
    "            tag = 'Null'\n",
    "            tags.append(sku)\n",
    "        \n",
    "    \n",
    "    all_products['names'].extend(names)\n",
    "    all_products['prices'].extend(prices)\n",
    "    all_products['sku'].extend(skus)\n",
    "    all_products['categories'].extend(categories)\n",
    "    all_products['tag'].extend(tags)\n",
    "\n",
    "\n",
    "\n",
    "\n",
    "#all_df = pd.DataFrame(all_products)\n",
    "#all_df.head\n",
    "all_products"
   ]
  },
  {
   "cell_type": "code",
   "execution_count": null,
   "id": "e66f5f81",
   "metadata": {},
   "outputs": [],
   "source": []
  }
 ],
 "metadata": {
  "kernelspec": {
   "display_name": "Python 3 (ipykernel)",
   "language": "python",
   "name": "python3"
  },
  "language_info": {
   "codemirror_mode": {
    "name": "ipython",
    "version": 3
   },
   "file_extension": ".py",
   "mimetype": "text/x-python",
   "name": "python",
   "nbconvert_exporter": "python",
   "pygments_lexer": "ipython3",
   "version": "3.9.12"
  }
 },
 "nbformat": 4,
 "nbformat_minor": 5
}
