{
 "cells": [
  {
   "cell_type": "markdown",
   "id": "de224da9",
   "metadata": {},
   "source": [
    "** OBJECTIVES***\n",
    "1. TOTAL NUMBER OF PRODUCTS\n",
    "2. TOTAL CATEGORIES\n",
    "3. TOTAL PRICE BY CATEGORIES\n",
    "4. TOP 5 MOST EXPENSIVE PRODUCTS\n",
    "5. TOP 5 MOST EXPENSIVE CATEGORIES\n"
   ]
  },
  {
   "cell_type": "code",
   "execution_count": 15,
   "id": "a563f114",
   "metadata": {},
   "outputs": [],
   "source": [
    "import numpy as np\n",
    "import pandas as pd\n",
    "import matplotlib.pyplot as plt\n",
    "import seaborn as sns\n",
    "\n",
    "%matplotlib inline"
   ]
  },
  {
   "cell_type": "markdown",
   "id": "28765ad1",
   "metadata": {},
   "source": [
    "## Load Dataset"
   ]
  },
  {
   "cell_type": "code",
   "execution_count": 2,
   "id": "73745e7e",
   "metadata": {},
   "outputs": [
    {
     "data": {
      "text/html": [
       "<div>\n",
       "<style scoped>\n",
       "    .dataframe tbody tr th:only-of-type {\n",
       "        vertical-align: middle;\n",
       "    }\n",
       "\n",
       "    .dataframe tbody tr th {\n",
       "        vertical-align: top;\n",
       "    }\n",
       "\n",
       "    .dataframe thead th {\n",
       "        text-align: right;\n",
       "    }\n",
       "</style>\n",
       "<table border=\"1\" class=\"dataframe\">\n",
       "  <thead>\n",
       "    <tr style=\"text-align: right;\">\n",
       "      <th></th>\n",
       "      <th>Unnamed: 0</th>\n",
       "      <th>names</th>\n",
       "      <th>prices</th>\n",
       "      <th>categories</th>\n",
       "      <th>tag</th>\n",
       "    </tr>\n",
       "  </thead>\n",
       "  <tbody>\n",
       "    <tr>\n",
       "      <th>0</th>\n",
       "      <td>0</td>\n",
       "      <td>Chewy Caramel Alpenliebe 6.5G</td>\n",
       "      <td>34.99</td>\n",
       "      <td>Confectionery and Snacks</td>\n",
       "      <td>Candy</td>\n",
       "    </tr>\n",
       "    <tr>\n",
       "      <th>1</th>\n",
       "      <td>1</td>\n",
       "      <td>Milk Chewy Caramel Alpenliebe 6.5G</td>\n",
       "      <td>34.99</td>\n",
       "      <td>Candy &amp; bubble Gum</td>\n",
       "      <td>Alpenliebe</td>\n",
       "    </tr>\n",
       "    <tr>\n",
       "      <th>2</th>\n",
       "      <td>2</td>\n",
       "      <td>Seasoning Powder Jollof Maggi 8G</td>\n",
       "      <td>52.99</td>\n",
       "      <td>Condiments, Oils &amp; Spices</td>\n",
       "      <td>Seasoning</td>\n",
       "    </tr>\n",
       "    <tr>\n",
       "      <th>3</th>\n",
       "      <td>3</td>\n",
       "      <td>Seasoning Powder Chicken Maggi 10G</td>\n",
       "      <td>52.99</td>\n",
       "      <td>Condiments, Oils &amp; Spices</td>\n",
       "      <td>Seasoning</td>\n",
       "    </tr>\n",
       "    <tr>\n",
       "      <th>4</th>\n",
       "      <td>4</td>\n",
       "      <td>Chocolate Slab Milk Dune 5G</td>\n",
       "      <td>54.99</td>\n",
       "      <td>Chocolate</td>\n",
       "      <td>Chocolate</td>\n",
       "    </tr>\n",
       "  </tbody>\n",
       "</table>\n",
       "</div>"
      ],
      "text/plain": [
       "   Unnamed: 0                               names  prices  \\\n",
       "0           0      Chewy Caramel Alpenliebe 6.5G    34.99   \n",
       "1           1  Milk Chewy Caramel Alpenliebe 6.5G   34.99   \n",
       "2           2    Seasoning Powder Jollof Maggi 8G   52.99   \n",
       "3           3  Seasoning Powder Chicken Maggi 10G   52.99   \n",
       "4           4         Chocolate Slab Milk Dune 5G   54.99   \n",
       "\n",
       "                  categories         tag  \n",
       "0   Confectionery and Snacks       Candy  \n",
       "1         Candy & bubble Gum  Alpenliebe  \n",
       "2  Condiments, Oils & Spices   Seasoning  \n",
       "3  Condiments, Oils & Spices   Seasoning  \n",
       "4                  Chocolate   Chocolate  "
      ]
     },
     "execution_count": 2,
     "metadata": {},
     "output_type": "execute_result"
    }
   ],
   "source": [
    "clean_df = pd.read_csv('shop_rite_cleaned_data.csv')\n",
    "clean_df.head()"
   ]
  },
  {
   "cell_type": "code",
   "execution_count": 3,
   "id": "c955af11",
   "metadata": {},
   "outputs": [],
   "source": [
    "clean_df.drop(columns ='Unnamed: 0',inplace = True)"
   ]
  },
  {
   "cell_type": "code",
   "execution_count": 4,
   "id": "380a1fca",
   "metadata": {},
   "outputs": [
    {
     "name": "stdout",
     "output_type": "stream",
     "text": [
      "<class 'pandas.core.frame.DataFrame'>\n",
      "RangeIndex: 93 entries, 0 to 92\n",
      "Data columns (total 4 columns):\n",
      " #   Column      Non-Null Count  Dtype  \n",
      "---  ------      --------------  -----  \n",
      " 0   names       93 non-null     object \n",
      " 1   prices      93 non-null     float64\n",
      " 2   categories  93 non-null     object \n",
      " 3   tag         93 non-null     object \n",
      "dtypes: float64(1), object(3)\n",
      "memory usage: 3.0+ KB\n"
     ]
    }
   ],
   "source": [
    "clean_df.info()"
   ]
  },
  {
   "cell_type": "markdown",
   "id": "a5f02904",
   "metadata": {},
   "source": [
    "## check shape"
   ]
  },
  {
   "cell_type": "code",
   "execution_count": 5,
   "id": "5ad07f7d",
   "metadata": {},
   "outputs": [
    {
     "data": {
      "text/plain": [
       "(93, 4)"
      ]
     },
     "execution_count": 5,
     "metadata": {},
     "output_type": "execute_result"
    }
   ],
   "source": [
    "clean_df.shape"
   ]
  },
  {
   "cell_type": "markdown",
   "id": "b693338f",
   "metadata": {},
   "source": [
    "## 1.Total Number of Products"
   ]
  },
  {
   "cell_type": "code",
   "execution_count": 6,
   "id": "31f94ddf",
   "metadata": {},
   "outputs": [
    {
     "name": "stdout",
     "output_type": "stream",
     "text": [
      "There are 89 unique products in the dataset.\n"
     ]
    }
   ],
   "source": [
    "num_of_products = len(clean_df['names'].unique())\n",
    "print(f\"There are {num_of_products} unique products in the dataset.\")"
   ]
  },
  {
   "cell_type": "markdown",
   "id": "669d11f3",
   "metadata": {},
   "source": [
    "## 2. count of products by categories"
   ]
  },
  {
   "cell_type": "code",
   "execution_count": 7,
   "id": "f352fbee",
   "metadata": {},
   "outputs": [
    {
     "data": {
      "text/plain": [
       "array(['Confectionery and Snacks', 'Candy & bubble Gum',\n",
       "       'Condiments, Oils & Spices', 'Chocolate', 'Biscuits & Cookies',\n",
       "       'Water', 'Hot Drinks and UHT Milk', 'Savoury', 'Milk',\n",
       "       'Canned Foods', 'HotCoco', 'Yoghurt', 'Carbonated Juices', 'Juice',\n",
       "       'Biscuits & Cookies, Confectionery and Snacks',\n",
       "       'Rice, Grains & Pasta', 'Food', 'Soda & Energy drink', 'Cereals',\n",
       "       'Bakery', 'Kitchen', 'Hot Drinks and UHT Milk, Milk'], dtype=object)"
      ]
     },
     "execution_count": 7,
     "metadata": {},
     "output_type": "execute_result"
    }
   ],
   "source": [
    "clean_df['categories'].unique()"
   ]
  },
  {
   "cell_type": "code",
   "execution_count": 10,
   "id": "6a026bde",
   "metadata": {},
   "outputs": [
    {
     "data": {
      "text/plain": [
       "categories\n",
       "Biscuits & Cookies      14\n",
       "Carbonated Juices       11\n",
       "Rice, Grains & Pasta     7\n",
       "Soda & Energy drink      6\n",
       "Food                     6\n",
       "Name: names, dtype: int64"
      ]
     },
     "execution_count": 10,
     "metadata": {},
     "output_type": "execute_result"
    }
   ],
   "source": [
    "top_5_products_by_category = clean_df.groupby('categories')[\"names\"].count().sort_values(ascending=False)[:5]\n",
    "top_5_products_by_category"
   ]
  },
  {
   "cell_type": "code",
   "execution_count": 16,
   "id": "6971d9b3",
   "metadata": {},
   "outputs": [
    {
     "data": {
      "image/png": "[encoded data removed]",
      "text/plain": [
       "<Figure size 432x288 with 1 Axes>"
      ]
     },
     "metadata": {
      "needs_background": "light"
     },
     "output_type": "display_data"
    }
   ],
   "source": [
    "x_axis = top_5_products_by_category.index\n",
    "y_axis = top_5_products_by_category.values\n",
    "\n",
    "sns.barplot(x=x_axis, y=y_axis)\n",
    "plt.title('Top 5 count of products by categories')\n",
    "plt.xlabel('Categories')\n",
    "plt.ylabel('Counts of products')\n",
    "plt.xticks(rotation=30)\n",
    "plt.show()\n"
   ]
  },
  {
   "cell_type": "code",
   "execution_count": null,
   "id": "91a06c5b",
   "metadata": {},
   "outputs": [],
   "source": []
  }
 ],
 "metadata": {
  "kernelspec": {
   "display_name": "Python 3 (ipykernel)",
   "language": "python",
   "name": "python3"
  },
  "language_info": {
   "codemirror_mode": {
    "name": "ipython",
    "version": 3
   },
   "file_extension": ".py",
   "mimetype": "text/x-python",
   "name": "python",
   "nbconvert_exporter": "python",
   "pygments_lexer": "ipython3",
   "version": "3.9.12"
  }
 },
 "nbformat": 4,
 "nbformat_minor": 5
}
