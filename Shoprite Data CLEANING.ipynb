{
 "cells": [
  {
   "cell_type": "markdown",
   "id": "cfb6a607",
   "metadata": {},
   "source": [
    "##  Shoprite Data CLEANING"
   ]
  },
  {
   "cell_type": "code",
   "execution_count": 1,
   "id": "d5d6df73",
   "metadata": {},
   "outputs": [],
   "source": [
    "import numpy as np  # mathematical functions\n",
    "import pandas as pd  # data analysis\n",
    "import matplotlib as plt  # data visualization\n",
    "\n",
    "%matplotlib inline"
   ]
  },
  {
   "cell_type": "markdown",
   "id": "0ea89a68",
   "metadata": {},
   "source": [
    "## Load our Data"
   ]
  },
  {
   "cell_type": "code",
   "execution_count": 2,
   "id": "9a100469",
   "metadata": {},
   "outputs": [
    {
     "data": {
      "text/html": [
       "<div>\n",
       "<style scoped>\n",
       "    .dataframe tbody tr th:only-of-type {\n",
       "        vertical-align: middle;\n",
       "    }\n",
       "\n",
       "    .dataframe tbody tr th {\n",
       "        vertical-align: top;\n",
       "    }\n",
       "\n",
       "    .dataframe thead th {\n",
       "        text-align: right;\n",
       "    }\n",
       "</style>\n",
       "<table border=\"1\" class=\"dataframe\">\n",
       "  <thead>\n",
       "    <tr style=\"text-align: right;\">\n",
       "      <th></th>\n",
       "      <th>Unnamed: 0</th>\n",
       "      <th>names</th>\n",
       "      <th>prices</th>\n",
       "      <th>sku</th>\n",
       "      <th>categories</th>\n",
       "      <th>tag</th>\n",
       "    </tr>\n",
       "  </thead>\n",
       "  <tbody>\n",
       "    <tr>\n",
       "      <th>0</th>\n",
       "      <td>0</td>\n",
       "      <td>Chewy Caramel Alpenliebe 6.5G</td>\n",
       "      <td>₦34.99</td>\n",
       "      <td>Candy Milk Chewy Caramel Alpenliebe 6.5G</td>\n",
       "      <td>Category: Confectionery and Snacks</td>\n",
       "      <td>Tag: Candy</td>\n",
       "    </tr>\n",
       "    <tr>\n",
       "      <th>1</th>\n",
       "      <td>1</td>\n",
       "      <td>Milk Chewy Caramel Alpenliebe 6.5G</td>\n",
       "      <td>₦34.99</td>\n",
       "      <td>Milk Chewy Caramel Alpenliebe 6.5G</td>\n",
       "      <td>Category: Candy &amp; bubble Gum</td>\n",
       "      <td>Tag: Alpenliebe</td>\n",
       "    </tr>\n",
       "    <tr>\n",
       "      <th>2</th>\n",
       "      <td>2</td>\n",
       "      <td>Seasoning Powder Jollof Maggi 8G</td>\n",
       "      <td>₦52.99</td>\n",
       "      <td>Seasoning Powder Jollof Maggi 8G</td>\n",
       "      <td>Category: Condiments, Oils &amp; Spices</td>\n",
       "      <td>Tag: Seasoning</td>\n",
       "    </tr>\n",
       "    <tr>\n",
       "      <th>3</th>\n",
       "      <td>3</td>\n",
       "      <td>Seasoning Powder Chicken Maggi 10G</td>\n",
       "      <td>₦52.99</td>\n",
       "      <td>Seasoning Powder Chicken Maggi 10G</td>\n",
       "      <td>Category: Condiments, Oils &amp; Spices</td>\n",
       "      <td>Tag: Seasoning</td>\n",
       "    </tr>\n",
       "    <tr>\n",
       "      <th>4</th>\n",
       "      <td>4</td>\n",
       "      <td>Chocolate Slab Milk Dune 5G</td>\n",
       "      <td>₦54.99</td>\n",
       "      <td>Chocolate Slab Milk Dune 5G</td>\n",
       "      <td>Category: Chocolate</td>\n",
       "      <td>Tag: Chocolate</td>\n",
       "    </tr>\n",
       "  </tbody>\n",
       "</table>\n",
       "</div>"
      ],
      "text/plain": [
       "   Unnamed: 0                               names  prices  \\\n",
       "0           0      Chewy Caramel Alpenliebe 6.5G   ₦34.99   \n",
       "1           1  Milk Chewy Caramel Alpenliebe 6.5G  ₦34.99   \n",
       "2           2    Seasoning Powder Jollof Maggi 8G  ₦52.99   \n",
       "3           3  Seasoning Powder Chicken Maggi 10G  ₦52.99   \n",
       "4           4         Chocolate Slab Milk Dune 5G  ₦54.99   \n",
       "\n",
       "                                         sku  \\\n",
       "0  Candy Milk Chewy Caramel Alpenliebe 6.5G    \n",
       "1         Milk Chewy Caramel Alpenliebe 6.5G   \n",
       "2           Seasoning Powder Jollof Maggi 8G   \n",
       "3         Seasoning Powder Chicken Maggi 10G   \n",
       "4                Chocolate Slab Milk Dune 5G   \n",
       "\n",
       "                            categories              tag  \n",
       "0   Category: Confectionery and Snacks       Tag: Candy  \n",
       "1         Category: Candy & bubble Gum  Tag: Alpenliebe  \n",
       "2  Category: Condiments, Oils & Spices   Tag: Seasoning  \n",
       "3  Category: Condiments, Oils & Spices   Tag: Seasoning  \n",
       "4                  Category: Chocolate   Tag: Chocolate  "
      ]
     },
     "execution_count": 2,
     "metadata": {},
     "output_type": "execute_result"
    }
   ],
   "source": [
    "df = pd.read_csv('shop_rite_messy_data.csv')\n",
    "df.head()"
   ]
  },
  {
   "cell_type": "markdown",
   "id": "8e98b639",
   "metadata": {},
   "source": [
    "## understand the Data"
   ]
  },
  {
   "cell_type": "code",
   "execution_count": 3,
   "id": "3f8894d6",
   "metadata": {},
   "outputs": [],
   "source": [
    "# drop the unnamed : o column\n",
    "df.drop(columns ='Unnamed: 0',inplace = True)"
   ]
  },
  {
   "cell_type": "code",
   "execution_count": 4,
   "id": "4bf24d04",
   "metadata": {},
   "outputs": [
    {
     "data": {
      "text/plain": [
       "Index(['names', 'prices', 'sku', 'categories', 'tag'], dtype='object')"
      ]
     },
     "execution_count": 4,
     "metadata": {},
     "output_type": "execute_result"
    }
   ],
   "source": [
    "#after dropping the columns\n",
    "df.columns"
   ]
  },
  {
   "cell_type": "code",
   "execution_count": 5,
   "id": "759d9e60",
   "metadata": {},
   "outputs": [
    {
     "data": {
      "text/plain": [
       "(100, 5)"
      ]
     },
     "execution_count": 5,
     "metadata": {},
     "output_type": "execute_result"
    }
   ],
   "source": [
    "df.shape"
   ]
  },
  {
   "cell_type": "code",
   "execution_count": 6,
   "id": "7bbe0ab3",
   "metadata": {},
   "outputs": [
    {
     "data": {
      "text/plain": [
       "0"
      ]
     },
     "execution_count": 6,
     "metadata": {},
     "output_type": "execute_result"
    }
   ],
   "source": [
    "df.duplicated().sum()"
   ]
  },
  {
   "cell_type": "code",
   "execution_count": 7,
   "id": "508031bc",
   "metadata": {
    "scrolled": true
   },
   "outputs": [
    {
     "name": "stdout",
     "output_type": "stream",
     "text": [
      "<class 'pandas.core.frame.DataFrame'>\n",
      "RangeIndex: 100 entries, 0 to 99\n",
      "Data columns (total 5 columns):\n",
      " #   Column      Non-Null Count  Dtype \n",
      "---  ------      --------------  ----- \n",
      " 0   names       100 non-null    object\n",
      " 1   prices      100 non-null    object\n",
      " 2   sku         100 non-null    object\n",
      " 3   categories  100 non-null    object\n",
      " 4   tag         100 non-null    object\n",
      "dtypes: object(5)\n",
      "memory usage: 4.0+ KB\n"
     ]
    }
   ],
   "source": [
    "df.info()"
   ]
  },
  {
   "cell_type": "markdown",
   "id": "0d64177c",
   "metadata": {},
   "source": [
    "##  Clean the price column\n",
    "\n",
    "Remove the currency symbol"
   ]
  },
  {
   "cell_type": "code",
   "execution_count": 8,
   "id": "88c6a9ab",
   "metadata": {},
   "outputs": [],
   "source": [
    "df['prices'] = df['prices'].str.replace('₦','').astype(float)"
   ]
  },
  {
   "cell_type": "markdown",
   "id": "f0f48117",
   "metadata": {},
   "source": [
    "#### Find fields with Null"
   ]
  },
  {
   "cell_type": "code",
   "execution_count": 9,
   "id": "a3b842d1",
   "metadata": {},
   "outputs": [
    {
     "data": {
      "text/plain": [
       "0"
      ]
     },
     "execution_count": 9,
     "metadata": {},
     "output_type": "execute_result"
    }
   ],
   "source": [
    "# for names\n",
    "(df['names'] == 'Null').sum()"
   ]
  },
  {
   "cell_type": "code",
   "execution_count": 10,
   "id": "a50dc08f",
   "metadata": {},
   "outputs": [
    {
     "data": {
      "text/plain": [
       "0"
      ]
     },
     "execution_count": 10,
     "metadata": {},
     "output_type": "execute_result"
    }
   ],
   "source": [
    "# for prices\n",
    "(df['prices'] == 'Null').sum()"
   ]
  },
  {
   "cell_type": "code",
   "execution_count": 11,
   "id": "f7c75472",
   "metadata": {},
   "outputs": [
    {
     "data": {
      "text/plain": [
       "11"
      ]
     },
     "execution_count": 11,
     "metadata": {},
     "output_type": "execute_result"
    }
   ],
   "source": [
    "# for sku\n",
    "(df['sku'] == 'Null').sum()"
   ]
  },
  {
   "cell_type": "code",
   "execution_count": 12,
   "id": "6885bc4c",
   "metadata": {},
   "outputs": [],
   "source": [
    "df['sku'] = df['sku'].replace('Null',np.nan)"
   ]
  },
  {
   "cell_type": "code",
   "execution_count": 13,
   "id": "9ed57813",
   "metadata": {},
   "outputs": [
    {
     "data": {
      "text/plain": [
       "5"
      ]
     },
     "execution_count": 13,
     "metadata": {},
     "output_type": "execute_result"
    }
   ],
   "source": [
    "# for categories\n",
    "(df['categories'] == 'Null').sum()"
   ]
  },
  {
   "cell_type": "code",
   "execution_count": 14,
   "id": "3fae2d48",
   "metadata": {},
   "outputs": [],
   "source": [
    "df['categories'] = df['categories'].replace('Null',np.nan)"
   ]
  },
  {
   "cell_type": "code",
   "execution_count": 15,
   "id": "9460e801",
   "metadata": {},
   "outputs": [
    {
     "data": {
      "text/plain": [
       "7"
      ]
     },
     "execution_count": 15,
     "metadata": {},
     "output_type": "execute_result"
    }
   ],
   "source": [
    "# for tag\n",
    "(df['tag'] == 'Null').sum()"
   ]
  },
  {
   "cell_type": "code",
   "execution_count": 16,
   "id": "388202a7",
   "metadata": {},
   "outputs": [],
   "source": [
    "df['tag'] = df['tag'].replace('Null',np.nan)"
   ]
  },
  {
   "cell_type": "code",
   "execution_count": 17,
   "id": "5e3cbaff",
   "metadata": {
    "scrolled": true
   },
   "outputs": [
    {
     "name": "stdout",
     "output_type": "stream",
     "text": [
      "<class 'pandas.core.frame.DataFrame'>\n",
      "RangeIndex: 100 entries, 0 to 99\n",
      "Data columns (total 5 columns):\n",
      " #   Column      Non-Null Count  Dtype  \n",
      "---  ------      --------------  -----  \n",
      " 0   names       100 non-null    object \n",
      " 1   prices      100 non-null    float64\n",
      " 2   sku         89 non-null     object \n",
      " 3   categories  95 non-null     object \n",
      " 4   tag         93 non-null     object \n",
      "dtypes: float64(1), object(4)\n",
      "memory usage: 4.0+ KB\n"
     ]
    }
   ],
   "source": [
    "df.info()"
   ]
  },
  {
   "cell_type": "code",
   "execution_count": 18,
   "id": "76d9f311",
   "metadata": {},
   "outputs": [],
   "source": [
    "df.drop(columns = 'sku', inplace=True)"
   ]
  },
  {
   "cell_type": "code",
   "execution_count": 19,
   "id": "71d0cf2c",
   "metadata": {},
   "outputs": [],
   "source": [
    "df.dropna(inplace=True)"
   ]
  },
  {
   "cell_type": "code",
   "execution_count": 20,
   "id": "d61a32d5",
   "metadata": {},
   "outputs": [
    {
     "name": "stdout",
     "output_type": "stream",
     "text": [
      "<class 'pandas.core.frame.DataFrame'>\n",
      "Int64Index: 93 entries, 0 to 99\n",
      "Data columns (total 4 columns):\n",
      " #   Column      Non-Null Count  Dtype  \n",
      "---  ------      --------------  -----  \n",
      " 0   names       93 non-null     object \n",
      " 1   prices      93 non-null     float64\n",
      " 2   categories  93 non-null     object \n",
      " 3   tag         93 non-null     object \n",
      "dtypes: float64(1), object(3)\n",
      "memory usage: 3.6+ KB\n"
     ]
    }
   ],
   "source": [
    "df.info()"
   ]
  },
  {
   "cell_type": "code",
   "execution_count": 21,
   "id": "ea0598eb",
   "metadata": {},
   "outputs": [
    {
     "data": {
      "text/html": [
       "<div>\n",
       "<style scoped>\n",
       "    .dataframe tbody tr th:only-of-type {\n",
       "        vertical-align: middle;\n",
       "    }\n",
       "\n",
       "    .dataframe tbody tr th {\n",
       "        vertical-align: top;\n",
       "    }\n",
       "\n",
       "    .dataframe thead th {\n",
       "        text-align: right;\n",
       "    }\n",
       "</style>\n",
       "<table border=\"1\" class=\"dataframe\">\n",
       "  <thead>\n",
       "    <tr style=\"text-align: right;\">\n",
       "      <th></th>\n",
       "      <th>names</th>\n",
       "      <th>prices</th>\n",
       "      <th>categories</th>\n",
       "      <th>tag</th>\n",
       "    </tr>\n",
       "  </thead>\n",
       "  <tbody>\n",
       "    <tr>\n",
       "      <th>0</th>\n",
       "      <td>Chewy Caramel Alpenliebe 6.5G</td>\n",
       "      <td>34.99</td>\n",
       "      <td>Category: Confectionery and Snacks</td>\n",
       "      <td>Tag: Candy</td>\n",
       "    </tr>\n",
       "    <tr>\n",
       "      <th>1</th>\n",
       "      <td>Milk Chewy Caramel Alpenliebe 6.5G</td>\n",
       "      <td>34.99</td>\n",
       "      <td>Category: Candy &amp; bubble Gum</td>\n",
       "      <td>Tag: Alpenliebe</td>\n",
       "    </tr>\n",
       "    <tr>\n",
       "      <th>2</th>\n",
       "      <td>Seasoning Powder Jollof Maggi 8G</td>\n",
       "      <td>52.99</td>\n",
       "      <td>Category: Condiments, Oils &amp; Spices</td>\n",
       "      <td>Tag: Seasoning</td>\n",
       "    </tr>\n",
       "    <tr>\n",
       "      <th>3</th>\n",
       "      <td>Seasoning Powder Chicken Maggi 10G</td>\n",
       "      <td>52.99</td>\n",
       "      <td>Category: Condiments, Oils &amp; Spices</td>\n",
       "      <td>Tag: Seasoning</td>\n",
       "    </tr>\n",
       "    <tr>\n",
       "      <th>4</th>\n",
       "      <td>Chocolate Slab Milk Dune 5G</td>\n",
       "      <td>54.99</td>\n",
       "      <td>Category: Chocolate</td>\n",
       "      <td>Tag: Chocolate</td>\n",
       "    </tr>\n",
       "  </tbody>\n",
       "</table>\n",
       "</div>"
      ],
      "text/plain": [
       "                                names  prices  \\\n",
       "0      Chewy Caramel Alpenliebe 6.5G    34.99   \n",
       "1  Milk Chewy Caramel Alpenliebe 6.5G   34.99   \n",
       "2    Seasoning Powder Jollof Maggi 8G   52.99   \n",
       "3  Seasoning Powder Chicken Maggi 10G   52.99   \n",
       "4         Chocolate Slab Milk Dune 5G   54.99   \n",
       "\n",
       "                            categories              tag  \n",
       "0   Category: Confectionery and Snacks       Tag: Candy  \n",
       "1         Category: Candy & bubble Gum  Tag: Alpenliebe  \n",
       "2  Category: Condiments, Oils & Spices   Tag: Seasoning  \n",
       "3  Category: Condiments, Oils & Spices   Tag: Seasoning  \n",
       "4                  Category: Chocolate   Tag: Chocolate  "
      ]
     },
     "execution_count": 21,
     "metadata": {},
     "output_type": "execute_result"
    }
   ],
   "source": [
    "df.head()"
   ]
  },
  {
   "cell_type": "markdown",
   "id": "4a8a5652",
   "metadata": {},
   "source": [
    "### Clean the category Column"
   ]
  },
  {
   "cell_type": "code",
   "execution_count": 22,
   "id": "2d448148",
   "metadata": {},
   "outputs": [],
   "source": [
    "df['categories'] = df['categories'].str.replace('Category: ', '')\n",
    "df['categories'] = df['categories'].str.replace('Categories: ', '')\n"
   ]
  },
  {
   "cell_type": "markdown",
   "id": "e45d4333",
   "metadata": {},
   "source": [
    "### Clean the tag column"
   ]
  },
  {
   "cell_type": "code",
   "execution_count": 23,
   "id": "7d598989",
   "metadata": {},
   "outputs": [],
   "source": [
    "df['tag'] = df['tag'].str.replace('Tag: ', '')"
   ]
  },
  {
   "cell_type": "code",
   "execution_count": 24,
   "id": "c624a664",
   "metadata": {
    "scrolled": false
   },
   "outputs": [
    {
     "data": {
      "text/html": [
       "<div>\n",
       "<style scoped>\n",
       "    .dataframe tbody tr th:only-of-type {\n",
       "        vertical-align: middle;\n",
       "    }\n",
       "\n",
       "    .dataframe tbody tr th {\n",
       "        vertical-align: top;\n",
       "    }\n",
       "\n",
       "    .dataframe thead th {\n",
       "        text-align: right;\n",
       "    }\n",
       "</style>\n",
       "<table border=\"1\" class=\"dataframe\">\n",
       "  <thead>\n",
       "    <tr style=\"text-align: right;\">\n",
       "      <th></th>\n",
       "      <th>names</th>\n",
       "      <th>prices</th>\n",
       "      <th>categories</th>\n",
       "      <th>tag</th>\n",
       "    </tr>\n",
       "  </thead>\n",
       "  <tbody>\n",
       "    <tr>\n",
       "      <th>0</th>\n",
       "      <td>Chewy Caramel Alpenliebe 6.5G</td>\n",
       "      <td>34.99</td>\n",
       "      <td>Confectionery and Snacks</td>\n",
       "      <td>Candy</td>\n",
       "    </tr>\n",
       "    <tr>\n",
       "      <th>1</th>\n",
       "      <td>Milk Chewy Caramel Alpenliebe 6.5G</td>\n",
       "      <td>34.99</td>\n",
       "      <td>Candy &amp; bubble Gum</td>\n",
       "      <td>Alpenliebe</td>\n",
       "    </tr>\n",
       "    <tr>\n",
       "      <th>2</th>\n",
       "      <td>Seasoning Powder Jollof Maggi 8G</td>\n",
       "      <td>52.99</td>\n",
       "      <td>Condiments, Oils &amp; Spices</td>\n",
       "      <td>Seasoning</td>\n",
       "    </tr>\n",
       "    <tr>\n",
       "      <th>3</th>\n",
       "      <td>Seasoning Powder Chicken Maggi 10G</td>\n",
       "      <td>52.99</td>\n",
       "      <td>Condiments, Oils &amp; Spices</td>\n",
       "      <td>Seasoning</td>\n",
       "    </tr>\n",
       "    <tr>\n",
       "      <th>4</th>\n",
       "      <td>Chocolate Slab Milk Dune 5G</td>\n",
       "      <td>54.99</td>\n",
       "      <td>Chocolate</td>\n",
       "      <td>Chocolate</td>\n",
       "    </tr>\n",
       "  </tbody>\n",
       "</table>\n",
       "</div>"
      ],
      "text/plain": [
       "                                names  prices                 categories  \\\n",
       "0      Chewy Caramel Alpenliebe 6.5G    34.99   Confectionery and Snacks   \n",
       "1  Milk Chewy Caramel Alpenliebe 6.5G   34.99         Candy & bubble Gum   \n",
       "2    Seasoning Powder Jollof Maggi 8G   52.99  Condiments, Oils & Spices   \n",
       "3  Seasoning Powder Chicken Maggi 10G   52.99  Condiments, Oils & Spices   \n",
       "4         Chocolate Slab Milk Dune 5G   54.99                  Chocolate   \n",
       "\n",
       "          tag  \n",
       "0       Candy  \n",
       "1  Alpenliebe  \n",
       "2   Seasoning  \n",
       "3   Seasoning  \n",
       "4   Chocolate  "
      ]
     },
     "execution_count": 24,
     "metadata": {},
     "output_type": "execute_result"
    }
   ],
   "source": [
    "df.head()"
   ]
  },
  {
   "cell_type": "markdown",
   "id": "a59a0a7e",
   "metadata": {},
   "source": [
    "##  Save into CSV\n",
    "\n"
   ]
  },
  {
   "cell_type": "code",
   "execution_count": 25,
   "id": "4af0118d",
   "metadata": {},
   "outputs": [],
   "source": [
    "df.to_csv('shop_rite_cleaned_data.csv')"
   ]
  },
  {
   "cell_type": "code",
   "execution_count": null,
   "id": "a9cc5b6a",
   "metadata": {},
   "outputs": [],
   "source": []
  }
 ],
 "metadata": {
  "kernelspec": {
   "display_name": "Python 3 (ipykernel)",
   "language": "python",
   "name": "python3"
  },
  "language_info": {
   "codemirror_mode": {
    "name": "ipython",
    "version": 3
   },
   "file_extension": ".py",
   "mimetype": "text/x-python",
   "name": "python",
   "nbconvert_exporter": "python",
   "pygments_lexer": "ipython3",
   "version": "3.9.12"
  }
 },
 "nbformat": 4,
 "nbformat_minor": 5
}
